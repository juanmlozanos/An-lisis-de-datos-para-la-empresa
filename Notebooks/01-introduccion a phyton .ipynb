{
 "cells": [
  {
   "cell_type": "code",
   "execution_count": 1,
   "id": "5d92bf14",
   "metadata": {},
   "outputs": [
    {
     "name": "stdout",
     "output_type": "stream",
     "text": [
      "hola mundo\n"
     ]
    }
   ],
   "source": [
    "print(\"hola mundo\")"
   ]
  },
  {
   "cell_type": "code",
   "execution_count": null,
   "id": "f830cb07",
   "metadata": {},
   "outputs": [
    {
     "data": {
      "text/plain": [
       "'santi'"
      ]
     },
     "execution_count": 6,
     "metadata": {},
     "output_type": "execute_result"
    }
   ],
   "source": [
    "#crear una lista\n",
    "lista = [1, 2, 3, 4, 5, 6, 7, 8, [\"juan\", \"luis\", \"santi\"]]\n",
    "\n",
    "#acceder a los elemtentos de una lista \n",
    "lista[3]\n",
    "#accedediendo lista dentro de lista \n",
    "lista[-1][2]"
   ]
  },
  {
   "cell_type": "code",
   "execution_count": 11,
   "id": "0d8108df",
   "metadata": {},
   "outputs": [
    {
     "data": {
      "text/plain": [
       "6"
      ]
     },
     "execution_count": 11,
     "metadata": {},
     "output_type": "execute_result"
    }
   ],
   "source": [
    "#crear una matrix\n",
    "matrix = [[1, 2, 3], [5, 6, 7], [8, 9, 10]]\n",
    "matrix[1][1]"
   ]
  },
  {
   "cell_type": "code",
   "execution_count": 17,
   "id": "3381d7df",
   "metadata": {},
   "outputs": [],
   "source": [
    "numeros = [5, 6, 8, 2 , 1, 3, 4, 7]\n",
    "\n",
    "#ordenar elementos\n",
    "numeros.sort()\n",
    "print = numeros"
   ]
  },
  {
   "cell_type": "code",
   "execution_count": 21,
   "id": "e02f5bb9",
   "metadata": {},
   "outputs": [
    {
     "data": {
      "text/plain": [
       "7000"
      ]
     },
     "execution_count": 21,
     "metadata": {},
     "output_type": "execute_result"
    }
   ],
   "source": [
    "#crear diccionario \n",
    "diccionario_pib = {\"colombia\" : 1000, \"peru\": 1500, \"brasil\": 2000, \"usa\": 7000}\n",
    "\n",
    "diccionario_pib[\"usa\"]"
   ]
  },
  {
   "cell_type": "code",
   "execution_count": 22,
   "id": "a65f0cfa",
   "metadata": {},
   "outputs": [],
   "source": [
    "#creando diccionario \n",
    "ejercicio = {\"nombre\":[\"pedro\", \"juan\", \"jhon\", \"pablo\"], \"telefono\" :[123, 456, 789, 000], \"carrera\": [\"economia\", \"fisica\", \"biologia\", \"ingenieria\"] }"
   ]
  },
  {
   "cell_type": "code",
   "execution_count": null,
   "id": "2d9f599e",
   "metadata": {},
   "outputs": [],
   "source": []
  }
 ],
 "metadata": {
  "kernelspec": {
   "display_name": "Python 3",
   "language": "python",
   "name": "python3"
  },
  "language_info": {
   "codemirror_mode": {
    "name": "ipython",
    "version": 3
   },
   "file_extension": ".py",
   "mimetype": "text/x-python",
   "name": "python",
   "nbconvert_exporter": "python",
   "pygments_lexer": "ipython3",
   "version": "3.12.1"
  }
 },
 "nbformat": 4,
 "nbformat_minor": 5
}
