{
 "cells": [
  {
   "cell_type": "code",
   "execution_count": 65,
   "id": "75601e65",
   "metadata": {},
   "outputs": [],
   "source": [
    "import pandas as pd\n",
    "import numpy as np "
   ]
  },
  {
   "cell_type": "code",
   "execution_count": 66,
   "id": "30314539",
   "metadata": {},
   "outputs": [],
   "source": [
    "url_cgsse = 'https://github.com/niconomist98/DataAnalyticsUQ/raw/refs/heads/main/Datos/GEIH2025/cgsse.CSV'\n",
    "url_ocupados = 'https://github.com/niconomist98/DataAnalyticsUQ/raw/refs/heads/main/Datos/GEIH2025/Ocupados.CSV'\n",
    "url_ft = 'https://github.com/niconomist98/DataAnalyticsUQ/raw/refs/heads/main/Datos/GEIH2025/Fuerza%20de%20trabajo.CSV'\n",
    "url_desocupados = 'https://github.com/niconomist98/DataAnalyticsUQ/raw/refs/heads/main/Datos/GEIH2025/No%20ocupados.CSV'"
   ]
  },
  {
   "cell_type": "code",
   "execution_count": 67,
   "id": "02c4e27b",
   "metadata": {},
   "outputs": [],
   "source": [
    "df_cgsse = pd.read_csv(url_cgsse, encoding='latin-1', sep=';', low_memory=False) \n",
    " \n",
    "\n",
    "#ocupados\n",
    "df_ocupados =pd.read_csv(url_ocupados, encoding='latin-1', sep=';', low_memory=False) \n",
    "\n",
    "#fuerza de trabajo \n",
    "df_ft =pd.read_csv(url_ft, encoding='latin-1', sep=';', low_memory=False) \n",
    "\n",
    "#no ocupados\n",
    "df_desocupados =pd.read_csv(url_desocupados, encoding='latin-1', sep=';', low_memory=False) \n"
   ]
  },
  {
   "cell_type": "markdown",
   "id": "aed7c120",
   "metadata": {},
   "source": [
    "calcular poblacion total "
   ]
  },
  {
   "cell_type": "code",
   "execution_count": 68,
   "id": "c4c1c23e",
   "metadata": {},
   "outputs": [
    {
     "name": "stdout",
     "output_type": "stream",
     "text": [
      "Poblacion total: 52045001\n"
     ]
    }
   ],
   "source": [
    "PT = df_cgsse['FEX_C18'].sum()\n",
    "print(f'Poblacion total: {int(PT)}')"
   ]
  },
  {
   "cell_type": "markdown",
   "id": "93610f06",
   "metadata": {},
   "source": [
    "#Calcular poblacion en edad trabajar "
   ]
  },
  {
   "cell_type": "code",
   "execution_count": 69,
   "id": "f90379f1",
   "metadata": {},
   "outputs": [
    {
     "name": "stdout",
     "output_type": "stream",
     "text": [
      "Poblacion en edad de trabajar: 40653416.00000409\n"
     ]
    }
   ],
   "source": [
    "PET = df_cgsse[df_cgsse['P6040'] >= 15]['FEX_C18'].sum()\n",
    "print(f'Poblacion en edad de trabajar: {PET}')"
   ]
  },
  {
   "cell_type": "code",
   "execution_count": 70,
   "id": "099f3cfe",
   "metadata": {},
   "outputs": [],
   "source": [
    "#población que no está en edad de trabajar"
   ]
  },
  {
   "cell_type": "code",
   "execution_count": 71,
   "id": "1da4f789",
   "metadata": {},
   "outputs": [
    {
     "name": "stdout",
     "output_type": "stream",
     "text": [
      "Poblacion que no esta en edad de trabajar: 11391585.000004958\n"
     ]
    }
   ],
   "source": [
    "PET = df_cgsse[df_cgsse['P6040'] < 15]['FEX_C18'].sum()\n",
    "print(f'Poblacion que no esta en edad de trabajar: {PET}')"
   ]
  },
  {
   "cell_type": "markdown",
   "id": "e0f0bdf2",
   "metadata": {},
   "source": [
    "# Calculo de la tasa de ocupacion \n",
    "-cantidad ocupados\n",
    "-cantidad PEA \n",
    "-O/PEA"
   ]
  },
  {
   "cell_type": "code",
   "execution_count": 72,
   "id": "0eff5d97",
   "metadata": {},
   "outputs": [
    {
     "name": "stdout",
     "output_type": "stream",
     "text": [
      "Poblacion en edad de trabajar: 23752952\n",
      "Poblacion en fuerza de trabajo: 40653416\n",
      "Tasa de ocupacion: 58.43%\n"
     ]
    }
   ],
   "source": [
    "#calcular ocupados\n",
    "O = int(df_ocupados['FEX_C18'].sum())\n",
    "print(f'Poblacion en edad de trabajar: {int(df_ocupados[\"FEX_C18\"].sum())}')\n",
    "\n",
    "PET = int(df_ft['FEX_C18'].sum())\n",
    "print(f'Poblacion en fuerza de trabajo: {int(df_ft[\"FEX_C18\"].sum())}')\n",
    "\n",
    "TO= (O/PET)*100\n",
    "print(f'Tasa de ocupacion: {TO:.2f}%')"
   ]
  },
  {
   "cell_type": "code",
   "execution_count": 73,
   "id": "f058d352",
   "metadata": {},
   "outputs": [
    {
     "name": "stdout",
     "output_type": "stream",
     "text": [
      "Poblacion desocupada: 16900463\n",
      "Tasa de desempleo (TD): 8.554017917472796 %\n"
     ]
    }
   ],
   "source": [
    "# Desocupados\n",
    "desocupados_total = df_desocupados['FEX_C18'].sum()\n",
    "\n",
    "D = int(df_desocupados[df_desocupados['DSI'] == 1]['FEX_C18'].sum())\n",
    "print(f'Poblacion desocupada: {int(df_desocupados[\"FEX_C18\"].sum())}')\n",
    "PEA = df_ft[df_ft['FT'] == 1]['FEX_C18'].sum()\n",
    "\n",
    "tasa_desempleo = (D / PEA) * 100\n",
    "\n",
    "print(\"Tasa de desempleo (TD):\", tasa_desempleo, \"%\")\n"
   ]
  },
  {
   "cell_type": "code",
   "execution_count": 74,
   "id": "4e43fe33",
   "metadata": {},
   "outputs": [],
   "source": [
    "#calculando da PEA y PEI "
   ]
  },
  {
   "cell_type": "code",
   "execution_count": 75,
   "id": "11e2a98c",
   "metadata": {},
   "outputs": [
    {
     "name": "stdout",
     "output_type": "stream",
     "text": [
      "Poblacion economicamente activa: 25974846\n",
      "Poblacion economicamente inactiva: 25974846\n"
     ]
    }
   ],
   "source": [
    "PEA = df_ft[df_ft['FT'] == 1]['FEX_C18'].sum()\n",
    "print(f'Poblacion economicamente activa: {int (PEA)}')\n",
    "\n",
    "PEI= df_ft[df_ft['FFT'] == 1]['FEX_C18'].sum()\n",
    "print(f'Poblacion economicamente inactiva: {int (PEA)}')"
   ]
  },
  {
   "cell_type": "code",
   "execution_count": 76,
   "id": "bfdd5194",
   "metadata": {},
   "outputs": [
    {
     "name": "stdout",
     "output_type": "stream",
     "text": [
      "[ 8 70 41 63 66  5 11 13 15 17 18 19 20 23 25 27 44 47 50 52 54 68 73 76\n",
      " 81 85 86 88 91 94 95 97 99]\n"
     ]
    }
   ],
   "source": [
    "departamentos = df_ft['DPTO'].unique()\n",
    "print(departamentos)"
   ]
  },
  {
   "cell_type": "markdown",
   "id": "2bbdbe1d",
   "metadata": {},
   "source": [
    "#calcular tasa desempleo Quindio\n",
    "#que se necesita\n",
    "#formula TDHQ = HD/PEAHQ -> HDQ : hombres desempleados en el quindio, "
   ]
  },
  {
   "cell_type": "code",
   "execution_count": 77,
   "id": "503cec0d",
   "metadata": {},
   "outputs": [],
   "source": [
    "#debemos anexar la p3371 a la tabla desemplados \n",
    "df_d_genero = pd.merge(df_desocupados, df_cgsse[['DIRECTORIO','SECUENCIA_P', 'ORDEN', 'P3271','P6040']], on=['DIRECTORIO','SECUENCIA_P', 'ORDEN'], how ='left')\n",
    "df_ft_genero = pd.merge(df_ft, df_cgsse[['DIRECTORIO','SECUENCIA_P', 'ORDEN', 'P3271', 'P6040']], on=['DIRECTORIO','SECUENCIA_P', 'ORDEN'], how ='left')\n"
   ]
  },
  {
   "cell_type": "code",
   "execution_count": 78,
   "id": "f3ea9447",
   "metadata": {},
   "outputs": [
    {
     "name": "stdout",
     "output_type": "stream",
     "text": [
      "Hombres desocupados en Quindio: 17869\n",
      "PEA hombres en Quindio: 174625\n",
      "Tasa de desempleo hombres en Quindio: 10.23\n"
     ]
    }
   ],
   "source": [
    "# 1. calcular hombres desocupados en Quindio usando df_d_genero (ya contiene P3271)\n",
    "HDQ = df_d_genero[\n",
    "\t(df_d_genero['DSI'] == 1) &\n",
    "\t(df_d_genero['DPTO'] == 63) &\n",
    "\t(df_d_genero['P3271'] == 1)\n",
    "]['FEX_C18'].sum()\n",
    "print(f'Hombres desocupados en Quindio: {int(HDQ)}')\n",
    "\n",
    "# 2. PEA hombres en Quindio usando df_d_genero\n",
    "PEAHQ = df_ft_genero[\n",
    "\t(df_ft_genero['FT'] == 1) &\n",
    "\t(df_ft_genero['DPTO'] == 63) &\n",
    "\t(df_ft_genero['P3271'] == 1)\n",
    "]['FEX_C18'].sum()\n",
    "print(f'PEA hombres en Quindio: {int(PEAHQ)}')\n",
    "\n",
    "# 3. Tasa de desempleo hombres en Quindio\n",
    "TDHQ = (HDQ / PEAHQ) * 100\n",
    "print(f'Tasa de desempleo hombres en Quindio: {TDHQ:.2f}')\n"
   ]
  },
  {
   "cell_type": "code",
   "execution_count": 79,
   "id": "d7b9b390",
   "metadata": {},
   "outputs": [
    {
     "name": "stdout",
     "output_type": "stream",
     "text": [
      "Mujeres desocupadas en Quindio: 10618\n",
      "PEA Mujeres en Quindio: 116885\n",
      "Tasa de desempleo Mujeres en Quindio: 9.08\n"
     ]
    }
   ],
   "source": [
    "# 2. calcular mujeres desocupados en Quindio\n",
    "# 1. calcular hombres desocupados en Quindio usando df_d_genero (ya contiene P3271)\n",
    "HDQ = df_d_genero[\n",
    "\t(df_d_genero['DSI'] == 1) &\n",
    "\t(df_d_genero['DPTO'] == 63) &\n",
    "\t(df_d_genero['P3271'] == 2)\n",
    "]['FEX_C18'].sum()\n",
    "print(f'Mujeres desocupadas en Quindio: {int(HDQ)}')\n",
    "\n",
    "# 2. PEA hombres en Quindio usando df_d_genero\n",
    "PEAHQ = df_ft_genero[\n",
    "\t(df_ft_genero['FT'] == 1) &\n",
    "\t(df_ft_genero['DPTO'] == 63) &\n",
    "\t(df_ft_genero['P3271'] ==2)\n",
    "]['FEX_C18'].sum()\n",
    "print(f'PEA Mujeres en Quindio: {int(PEAHQ)}')\n",
    "\n",
    "# 3. Tasa de desempleo hombres en Quindio\n",
    "TDHQ = (HDQ / PEAHQ) * 100\n",
    "print(f'Tasa de desempleo Mujeres en Quindio: {TDHQ:.2f}')"
   ]
  },
  {
   "cell_type": "code",
   "execution_count": 80,
   "id": "cc38d796",
   "metadata": {},
   "outputs": [
    {
     "name": "stdout",
     "output_type": "stream",
     "text": [
      "hombres desocupados en Risaralda: 18000\n",
      "PEA hombres en Risaralda: 296342\n",
      "Tasa de desempleo Hombres en Risaralda: 6.07\n"
     ]
    }
   ],
   "source": [
    "# 1. calcular hombres desocupados en Risaralda\n",
    "HDR = df_d_genero[\n",
    "\t(df_d_genero['DSI'] == 1) &\n",
    "\t(df_d_genero['DPTO'] == 66) &\n",
    "\t(df_d_genero['P3271'] == 1)\n",
    "]['FEX_C18'].sum()\n",
    "print(f'hombres desocupados en Risaralda: {int(HDR)}')\n",
    "\n",
    "# 2. PEA hombres en Risaralda usando df_d_genero\n",
    "PEAHR = df_ft_genero[\n",
    "\t(df_ft_genero['FT'] == 1) &\n",
    "\t(df_ft_genero['DPTO'] == 66) &\n",
    "\t(df_ft_genero['P3271'] ==1)\n",
    "]['FEX_C18'].sum()\n",
    "print(f'PEA hombres en Risaralda: {int(PEAHR)}')\n",
    "\n",
    "# 3. Tasa de desempleo hombres en Risaralda\n",
    "TDHR = (HDR / PEAHR) * 100\n",
    "print(f'Tasa de desempleo Hombres en Risaralda: {TDHR:.2f}')"
   ]
  },
  {
   "cell_type": "code",
   "execution_count": 81,
   "id": "72ede4b1",
   "metadata": {},
   "outputs": [
    {
     "name": "stdout",
     "output_type": "stream",
     "text": [
      "Mujeres desocupadas en Risaralda: 21676\n",
      "PEA Mujeres en Risaralda: 116885\n",
      "Tasa de desempleo Mujeres en Risaralda: 6.07\n"
     ]
    }
   ],
   "source": [
    "# 2. calcular mujeres desocupados en Risaralda\n",
    "HDR = df_d_genero[\n",
    "\t(df_d_genero['DSI'] == 1) &\n",
    "\t(df_d_genero['DPTO'] == 66) &\n",
    "\t(df_d_genero['P3271'] == 2)\n",
    "]['FEX_C18'].sum()\n",
    "print(f'Mujeres desocupadas en Risaralda: {int(HDR)}')\n",
    "\n",
    "# 2. PEA Mujeres en Risaralda usando df_d_genero\n",
    "PEAHR = df_ft_genero[\n",
    "\t(df_ft_genero['FT'] == 1) &\n",
    "\t(df_ft_genero['DPTO'] == 66) &\n",
    "\t(df_ft_genero['P3271'] ==2)\n",
    "]['FEX_C18'].sum()\n",
    "print(f'PEA Mujeres en Risaralda: {int(PEAHQ)}')\n",
    "\n",
    "# 3. Tasa de desempleo Mujeres en Risaralda\n",
    "TDHQ = (HDR / PEAHR) * 100\n",
    "print(f'Tasa de desempleo Mujeres en Risaralda: {TDHR:.2f}')"
   ]
  },
  {
   "cell_type": "code",
   "execution_count": 82,
   "id": "4f5b92b1",
   "metadata": {},
   "outputs": [
    {
     "name": "stdout",
     "output_type": "stream",
     "text": [
      "hombres desocupados en Caldas: 18226\n",
      "PEA hombres en Caldas: 203157\n",
      "Tasa de desempleo Hombres en Caldas: 5.58\n"
     ]
    }
   ],
   "source": [
    "# 1. calcular hombres desocupados en Caldas\n",
    "HDC= df_d_genero[\n",
    "\t(df_d_genero['DSI'] == 1) &\n",
    "\t(df_d_genero['DPTO'] == 17) &\n",
    "\t(df_d_genero['P3271'] == 1)\n",
    "]['FEX_C18'].sum()\n",
    "print(f'hombres desocupados en Caldas: {int(HDC)}')\n",
    "\n",
    "# 2. PEA hombres en Caldas usando df_d_genero\n",
    "PEAHC = df_ft_genero[\n",
    "\t(df_ft_genero['FT'] == 1) &\n",
    "\t(df_ft_genero['DPTO'] == 17) &\n",
    "\t(df_ft_genero['P3271'] ==1)\n",
    "]['FEX_C18'].sum()\n",
    "print(f'PEA hombres en Caldas: {int(PEAHR)}')\n",
    "\n",
    "# 3. Tasa de desempleo hombres en Caldas\n",
    "TDHC = (HDC / PEAHC) * 100\n",
    "print(f'Tasa de desempleo Hombres en Caldas: {TDHC:.2f}')"
   ]
  },
  {
   "cell_type": "code",
   "execution_count": 83,
   "id": "470ef19a",
   "metadata": {},
   "outputs": [
    {
     "name": "stdout",
     "output_type": "stream",
     "text": [
      "Mujeres desocupadas en Caldas: 17214\n",
      "PEA Mujeres en Caldas: 224206\n",
      "Tasa de desempleo Mujeres en CALDAS: 8.13\n"
     ]
    }
   ],
   "source": [
    "# 2. calcular mujeres desocupadas en Caldas\n",
    "HDR = df_d_genero[\n",
    "\t(df_d_genero['DSI'] == 1) &\n",
    "\t(df_d_genero['DPTO'] == 17) &\n",
    "\t(df_d_genero['P3271'] == 2)\n",
    "]['FEX_C18'].sum()\n",
    "print(f'Mujeres desocupadas en Caldas: {int(HDR)}')\n",
    "\n",
    "# 2. PEA Mujeres en Caldas usando df_d_genero\n",
    "PEAHC = df_ft_genero[\n",
    "\t(df_ft_genero['FT'] == 1) &\n",
    "\t(df_ft_genero['DPTO'] == 17) &\n",
    "\t(df_ft_genero['P3271'] ==2)\n",
    "]['FEX_C18'].sum()\n",
    "print(f'PEA Mujeres en Caldas: {int(PEAHC)}')\n",
    "\n",
    "# 3. Tasa de desempleo Mujeres en Risaralda\n",
    "TDHC = (HDC / PEAHC) * 100\n",
    "print(f'Tasa de desempleo Mujeres en CALDAS: {TDHC:.2f}')"
   ]
  },
  {
   "cell_type": "markdown",
   "id": "2bcec80f",
   "metadata": {},
   "source": [
    "#CALCULO TASA DESEMPLEO SEGMENTOS DE EDAD QUINDIO"
   ]
  },
  {
   "cell_type": "code",
   "execution_count": 96,
   "id": "e6e14103",
   "metadata": {},
   "outputs": [
    {
     "name": "stdout",
     "output_type": "stream",
     "text": [
      "PERSONAS desocupados en Quindio entre 18-24 años: 3819\n",
      "PEA en Quindio entre 18-24 años: 29912\n",
      "Tasa de desempleo en Quindio entre 18-24 años: 12.77%\n",
      "PERSONAS desocupados en Quindio entre 24-30 años: 7008\n",
      "PEA en Quindio entre 24-30 años: 51117\n",
      "Tasa de desempleo en Quindio entre 24-30 años: 13.71%\n",
      "PERSONAS desocupados en Quindio entre 30-40 años: 7015\n",
      "PEA en Quindio entre 18-24 años: 72731\n",
      "Tasa de desempleo en Quindio entre 30-40 años: 9.65%\n",
      "PERSONAS desocupados en Quindio entre 40-50 años: 4416\n",
      "PEA en Quindio entre 40-50 años: 70586\n",
      "Tasa de desempleo en Quindio entre 40-50 años: 6.26%\n",
      "PERSONAS desocupados en Quindio entre 18-24 años: 3819\n",
      "PEA en Quindio entre 60 y mas años: 41690\n",
      "Tasa de desempleo en Quindio entre 60 y mas años: 10.31%\n"
     ]
    }
   ],
   "source": [
    "#SEGMENTO 18-24\n",
    "#1. CALCULAR CANTIDAD DE PERSONAS DESEMPLEADAS ENTRE 18-24 AÑOS EN QUINDIO\n",
    "HDQ_18_24 = df_d_genero[\n",
    "    (df_d_genero['DSI'] == 1) &\n",
    "    (df_d_genero['DPTO'] == 63) &\n",
    "    (df_d_genero['P6040'] >= 18) &\n",
    "    (df_d_genero['P6040'] <= 24)\n",
    "]['FEX_C18'].sum()\n",
    "print(f'PERSONAS desocupados en Quindio entre 18-24 años: {int(HDQ_18_24)}')\n",
    "\n",
    "#2. CALCULAR PEA ENTRE 18-24 AÑOS EN QUINDIO\n",
    "PEA_18_24 = df_ft_genero[\n",
    "    (df_ft_genero['FT'] == 1) &\n",
    "    (df_ft_genero['DPTO'] == 63) &\n",
    "    (df_ft_genero['P6040'] >= 18) &\n",
    "    (df_ft_genero['P6040'] <= 24)\n",
    "]['FEX_C18'].sum()\n",
    "print(f'PEA en Quindio entre 18-24 años: {int(PEA_18_24)}')\n",
    "\n",
    "#3. CALCULAR TASA DE DESEMPLEO ENTRE 18-24 AÑOS EN QUINDIO\n",
    "TD_18_24 = (HDQ_18_24 / PEA_18_24) * 100\n",
    "print(f'Tasa de desempleo en Quindio entre 18-24 años: {TD_18_24:.2f}%')\n",
    "\n",
    "\n",
    "#SEGMENTO 24-30\n",
    "#1. CALCULAR CANTIDAD DE PERSONAS DESEMPLEADAS ENTRE 18-24 AÑOS EN QUINDIO\n",
    "HDQ_24_30 = df_d_genero[\n",
    "    (df_d_genero['DSI'] == 1) &\n",
    "    (df_d_genero['DPTO'] == 63) &\n",
    "    (df_d_genero['P6040'] >= 24) &\n",
    "    (df_d_genero['P6040'] <= 30)\n",
    "]['FEX_C18'].sum()\n",
    "print(f'PERSONAS desocupados en Quindio entre 24-30 años: {int(HDQ_24_30)}')\n",
    "\n",
    "#2. CALCULAR PEA ENTRE 24-30 AÑOS EN QUINDIO\n",
    "PEA_24_30 = df_ft_genero[\n",
    "    (df_ft_genero['FT'] == 1) &\n",
    "    (df_ft_genero['DPTO'] == 63) &\n",
    "    (df_ft_genero['P6040'] >= 24) &\n",
    "    (df_ft_genero['P6040'] <= 30)\n",
    "]['FEX_C18'].sum()\n",
    "print(f'PEA en Quindio entre 24-30 años: {int(PEA_24_30)}')\n",
    "\n",
    "#3. CALCULAR TASA DE DESEMPLEO ENTRE 24-30 AÑOS EN QUINDIO\n",
    "TD_24_30 = (HDQ_24_30 / PEA_24_30) * 100\n",
    "print(f'Tasa de desempleo en Quindio entre 24-30 años: {TD_24_30:.2f}%')\n",
    "\n",
    "\n",
    "#SEGMENTO 30-40\n",
    "#1. CALCULAR CANTIDAD DE PERSONAS DESEMPLEADAS ENTRE 30-40 AÑOS EN QUINDIO\n",
    "HDQ_30_40 = df_d_genero[\n",
    "    (df_d_genero['DSI'] == 1) &\n",
    "    (df_d_genero['DPTO'] == 63) &\n",
    "    (df_d_genero['P6040'] >= 30) &\n",
    "    (df_d_genero['P6040'] <= 40)\n",
    "]['FEX_C18'].sum()\n",
    "print(f'PERSONAS desocupados en Quindio entre 30-40 años: {int(HDQ_30_40)}')\n",
    "\n",
    "#2. CALCULAR PEA ENTRE 30-40 AÑOS EN QUINDIO\n",
    "PEA_30_40 = df_ft_genero[\n",
    "    (df_ft_genero['FT'] == 1) &\n",
    "    (df_ft_genero['DPTO'] == 63) &\n",
    "    (df_ft_genero['P6040'] >= 30) &\n",
    "    (df_ft_genero['P6040'] <= 40)\n",
    "]['FEX_C18'].sum()\n",
    "print(f'PEA en Quindio entre 18-24 años: {int(PEA_30_40)}')\n",
    "\n",
    "#3. CALCULAR TASA DE DESEMPLEO ENTRE 18-24 AÑOS EN QUINDIO\n",
    "TD_30_40 = (HDQ_30_40 / PEA_30_40) * 100\n",
    "print(f'Tasa de desempleo en Quindio entre 30-40 años: {TD_30_40:.2f}%')\n",
    "\n",
    "\n",
    "#SEGMENTO 40-50\n",
    "#1. CALCULAR CANTIDAD DE PERSONAS DESEMPLEADAS ENTRE 18-24 AÑOS EN QUINDIO\n",
    "HDQ_40_50 = df_d_genero[\n",
    "    (df_d_genero['DSI'] == 1) &\n",
    "    (df_d_genero['DPTO'] == 63) &\n",
    "    (df_d_genero['P6040'] >= 40) &\n",
    "    (df_d_genero['P6040'] <= 50)\n",
    "]['FEX_C18'].sum()\n",
    "print(f'PERSONAS desocupados en Quindio entre 40-50 años: {int(HDQ_40_50)}')\n",
    "\n",
    "#2. CALCULAR PEA ENTRE 40-50 AÑOS EN QUINDIO\n",
    "PEA_40_50 = df_ft_genero[\n",
    "    (df_ft_genero['FT'] == 1) &\n",
    "    (df_ft_genero['DPTO'] == 63) &\n",
    "    (df_ft_genero['P6040'] >= 40) &\n",
    "    (df_ft_genero['P6040'] <= 50)\n",
    "]['FEX_C18'].sum()\n",
    "print(f'PEA en Quindio entre 40-50 años: {int(PEA_40_50)}')\n",
    "\n",
    "#3. CALCULAR TASA DE DESEMPLEO ENTRE 40-50 AÑOS EN QUINDIO\n",
    "TD_40_50 = (HDQ_40_50 / PEA_40_50) * 100\n",
    "print(f'Tasa de desempleo en Quindio entre 40-50 años: {TD_40_50:.2f}%')\n",
    "\n",
    "\n",
    "#SEGMENTO 18-24\n",
    "#1. CALCULAR CANTIDAD DE PERSONAS DESEMPLEADAS ENTRE 18-24 AÑOS EN QUINDIO\n",
    "HDQ_60_100 = df_d_genero[\n",
    "    (df_d_genero['DSI'] == 1) &\n",
    "    (df_d_genero['DPTO'] == 63) &\n",
    "    (df_d_genero['P6040'] >= 60) &\n",
    "    (df_d_genero['P6040'] <= 100)\n",
    "]['FEX_C18'].sum()\n",
    "print(f'PERSONAS desocupados en Quindio entre 18-24 años: {int(HDQ_18_24)}')\n",
    "\n",
    "#2. CALCULAR PEA ENTRE 60 y mas AÑOS EN QUINDIO\n",
    "PEA_60_100 = df_ft_genero[\n",
    "    (df_ft_genero['FT'] == 1) &\n",
    "    (df_ft_genero['DPTO'] == 63) &\n",
    "    (df_ft_genero['P6040'] >= 60) &\n",
    "    (df_ft_genero['P6040'] <= 100)\n",
    "]['FEX_C18'].sum()\n",
    "print(f'PEA en Quindio entre 60 y mas años: {int(PEA_60_100)}')\n",
    "\n",
    "#3. CALCULAR TASA DE DESEMPLEO ENTRE 60 y mas AÑOS EN QUINDIO\n",
    "TD_60_100 = (HDQ_60_100/ PEA_60_100) * 100\n",
    "print(f'Tasa de desempleo en Quindio entre 60 y mas años: {TD_60_100:.2f}%')"
   ]
  },
  {
   "cell_type": "code",
   "execution_count": 97,
   "id": "16eb89c2",
   "metadata": {},
   "outputs": [
    {
     "name": "stdout",
     "output_type": "stream",
     "text": [
      "PERSONAS desocupados en Risaralda entre 18-24 años: 9385\n",
      "PEA en RISARALDA entre 18-24 años: 63454\n",
      "Tasa de desempleo en RISARALDA entre 18-24 años: 14.79%\n",
      "PERSONAS desocupados en RISARALDA entre 24-30 años: 10504\n",
      "PEA en RISARALDA entre 24-30 años: 90684\n",
      "Tasa de desempleo en RISARALDA entre 24-30 años: 11.58%\n",
      "PERSONAS desocupados en RISALDA entre 30-40 años: 9922\n",
      "PEA en RISARALDA entre 18-24 años: 153899\n",
      "Tasa de desempleo en RISARALDA entre 30-40 años: 6.45%\n",
      "PERSONAS desocupados en RISARALDA entre 40-50 años: 7584\n",
      "PEA en RISARALDA entre 40-50 años: 103397\n",
      "Tasa de desempleo en RISARALDA entre 40-50 años: 7.34%\n",
      "PERSONAS desocupados en RISARALDA entre 18-24 años: 9385\n",
      "PEA en RISARALODA entre 60 y mas años: 61031\n",
      "Tasa de desempleo en RISARALDA entre 60 y mas años: 3.64%\n"
     ]
    }
   ],
   "source": [
    "#SEGMENTO 18-24\n",
    "#1. CALCULAR CANTIDAD DE PERSONAS DESEMPLEADAS ENTRE 18-24 AÑOS EN RISARALDA\n",
    "HDR_18_24 = df_d_genero[\n",
    "    (df_d_genero['DSI'] == 1) &\n",
    "    (df_d_genero['DPTO'] == 66) &\n",
    "    (df_d_genero['P6040'] >= 18) &\n",
    "    (df_d_genero['P6040'] <= 24)\n",
    "]['FEX_C18'].sum()\n",
    "print(f'PERSONAS desocupados en Risaralda entre 18-24 años: {int(HDR_18_24)}')\n",
    "\n",
    "#2. CALCULAR PEA ENTRE 18-24 AÑOS EN RISARALDA\n",
    "PEA_18_24 = df_ft_genero[\n",
    "    (df_ft_genero['FT'] == 1) &\n",
    "    (df_ft_genero['DPTO'] == 66) &\n",
    "    (df_ft_genero['P6040'] >= 18) &\n",
    "    (df_ft_genero['P6040'] <= 24)\n",
    "]['FEX_C18'].sum()\n",
    "print(f'PEA en RISARALDA entre 18-24 años: {int(PEA_18_24)}')\n",
    "\n",
    "#3. CALCULAR TASA DE DESEMPLEO ENTRE 18-24 AÑOS EN RISARALDA\n",
    "TD_18_24 = (HDR_18_24 / PEA_18_24) * 100\n",
    "print(f'Tasa de desempleo en RISARALDA entre 18-24 años: {TD_18_24:.2f}%')\n",
    "\n",
    "\n",
    "#SEGMENTO 24-30\n",
    "#1. CALCULAR CANTIDAD DE PERSONAS DESEMPLEADAS ENTRE 18-24 AÑOS EN RISALRALDA\n",
    "HDR_24_30 = df_d_genero[\n",
    "    (df_d_genero['DSI'] == 1) &\n",
    "    (df_d_genero['DPTO'] == 66) &\n",
    "    (df_d_genero['P6040'] >= 24) &\n",
    "    (df_d_genero['P6040'] <= 30)\n",
    "]['FEX_C18'].sum()\n",
    "print(f'PERSONAS desocupados en RISARALDA entre 24-30 años: {int(HDR_24_30)}')\n",
    "\n",
    "#2. CALCULAR PEA ENTRE 24-30 AÑOS EN RISARALDA\n",
    "PEA_24_30 = df_ft_genero[\n",
    "    (df_ft_genero['FT'] == 1) &\n",
    "    (df_ft_genero['DPTO'] == 66) &\n",
    "    (df_ft_genero['P6040'] >= 24) &\n",
    "    (df_ft_genero['P6040'] <= 30)\n",
    "]['FEX_C18'].sum()\n",
    "print(f'PEA en RISARALDA entre 24-30 años: {int(PEA_24_30)}')\n",
    "\n",
    "#3. CALCULAR TASA DE DESEMPLEO ENTRE 24-30 AÑOS EN RISARALDA\n",
    "TD_24_30 = (HDR_24_30 / PEA_24_30) * 100\n",
    "print(f'Tasa de desempleo en RISARALDA entre 24-30 años: {TD_24_30:.2f}%')\n",
    "\n",
    "\n",
    "#SEGMENTO 30-40\n",
    "#1. CALCULAR CANTIDAD DE PERSONAS DESEMPLEADAS ENTRE 30-40 AÑOS EN RISARALDA\n",
    "HDR_30_40 = df_d_genero[\n",
    "    (df_d_genero['DSI'] == 1) &\n",
    "    (df_d_genero['DPTO'] == 66) &\n",
    "    (df_d_genero['P6040'] >= 30) &\n",
    "    (df_d_genero['P6040'] <= 40)\n",
    "]['FEX_C18'].sum()\n",
    "print(f'PERSONAS desocupados en RISALDA entre 30-40 años: {int(HDR_30_40)}')\n",
    "\n",
    "#2. CALCULAR PEA ENTRE 30-40 AÑOS EN RISARALDA\n",
    "PEA_30_40 = df_ft_genero[\n",
    "    (df_ft_genero['FT'] == 1) &\n",
    "    (df_ft_genero['DPTO'] == 66) &\n",
    "    (df_ft_genero['P6040'] >= 30) &\n",
    "    (df_ft_genero['P6040'] <= 40)\n",
    "]['FEX_C18'].sum()\n",
    "print(f'PEA en RISARALDA entre 18-24 años: {int(PEA_30_40)}')\n",
    "\n",
    "#3. CALCULAR TASA DE DESEMPLEO ENTRE 18-24 AÑOS EN RISARALDA\n",
    "TD_30_40 = (HDR_30_40 / PEA_30_40) * 100\n",
    "print(f'Tasa de desempleo en RISARALDA entre 30-40 años: {TD_30_40:.2f}%')\n",
    "\n",
    "\n",
    "#SEGMENTO 40-50\n",
    "#1. CALCULAR CANTIDAD DE PERSONAS DESEMPLEADAS ENTRE 40-50 AÑOS EN RISARALDA\n",
    "HDR_40_50 = df_d_genero[\n",
    "    (df_d_genero['DSI'] == 1) &\n",
    "    (df_d_genero['DPTO'] == 66) &\n",
    "    (df_d_genero['P6040'] >= 40) &\n",
    "    (df_d_genero['P6040'] <= 50)\n",
    "]['FEX_C18'].sum()\n",
    "print(f'PERSONAS desocupados en RISARALDA entre 40-50 años: {int(HDR_40_50)}')\n",
    "\n",
    "#2. CALCULAR PEA ENTRE 40-50 AÑOS EN RISARALDA\n",
    "PEA_40_50 = df_ft_genero[\n",
    "    (df_ft_genero['FT'] == 1) &\n",
    "    (df_ft_genero['DPTO'] == 66) &\n",
    "    (df_ft_genero['P6040'] >= 40) &\n",
    "    (df_ft_genero['P6040'] <= 50)\n",
    "]['FEX_C18'].sum()\n",
    "print(f'PEA en RISARALDA entre 40-50 años: {int(PEA_40_50)}')\n",
    "\n",
    "#3. CALCULAR TASA DE DESEMPLEO ENTRE 40-50 AÑOS EN RISARALDA\n",
    "TD_40_50 = (HDR_40_50 / PEA_40_50) * 100\n",
    "print(f'Tasa de desempleo en RISARALDA entre 40-50 años: {TD_40_50:.2f}%')\n",
    "\n",
    "\n",
    "#SEGMENTO 18-24\n",
    "#1. CALCULAR CANTIDAD DE PERSONAS DESEMPLEADAS ENTRE 60 Y MAS AÑOS EN RISARALDA\n",
    "HDR_60_100 = df_d_genero[\n",
    "    (df_d_genero['DSI'] == 1) &\n",
    "    (df_d_genero['DPTO'] == 66) &\n",
    "    (df_d_genero['P6040'] >= 60) &\n",
    "    (df_d_genero['P6040'] <= 100)\n",
    "]['FEX_C18'].sum()\n",
    "print(f'PERSONAS desocupados en RISARALDA entre 18-24 años: {int(HDR_18_24)}')\n",
    "\n",
    "#2. CALCULAR PEA ENTRE 60 y mas AÑOS EN RISARALDA\n",
    "PEA_60_100 = df_ft_genero[\n",
    "    (df_ft_genero['FT'] == 1) &\n",
    "    (df_ft_genero['DPTO'] == 66) &\n",
    "    (df_ft_genero['P6040'] >= 60) &\n",
    "    (df_ft_genero['P6040'] <= 100)\n",
    "]['FEX_C18'].sum()\n",
    "print(f'PEA en RISARALODA entre 60 y mas años: {int(PEA_60_100)}')\n",
    "\n",
    "#3. CALCULAR TASA DE DESEMPLEO ENTRE 60 y mas AÑOS EN RISARALDA\n",
    "TD_60_100 = (HDR_60_100/ PEA_60_100) * 100\n",
    "print(f'Tasa de desempleo en RISARALDA entre 60 y mas años: {TD_60_100:.2f}%')"
   ]
  },
  {
   "cell_type": "code",
   "execution_count": 99,
   "id": "bd82418c",
   "metadata": {},
   "outputs": [
    {
     "name": "stdout",
     "output_type": "stream",
     "text": [
      "PERSONAS desocupados en CALDAS entre 18-24 años: 6259\n",
      "PEA en CALDAS entre 18-24 años: 66978\n",
      "Tasa de desempleo en CALDAS entre 18-24 años: 9.34%\n",
      "PERSONAS desocupados en CALDAS entre 24-30 años: 6090\n",
      "PEA en CALDAS entre 24-30 años: 94541\n",
      "Tasa de desempleo en CALDAS entre 24-30 años: 6.44%\n",
      "PERSONAS desocupados en CALDAS entre 30-40 años: 7691\n",
      "PEA en CALDAS entre 18-24 años: 134487\n",
      "Tasa de desempleo en CALDAS entre 30-40 años: 5.72%\n",
      "PERSONAS desocupados en CALDAS entre 40-50 años: 6318\n",
      "PEA en CALDAS entre 40-50 años: 123334\n",
      "Tasa de desempleo en CALDAS entre 40-50 años: 5.12%\n",
      "PERSONAS desocupados en CALDAS entre 18-24 años: 6259\n",
      "PEA en CALDAS entre 60 y mas años: 62637\n",
      "Tasa de desempleo en CALDAS entre 60 y mas años: 4.06%\n"
     ]
    }
   ],
   "source": [
    "#SEGMENTO 18-24\n",
    "#1. CALCULAR CANTIDAD DE PERSONAS DESEMPLEADAS ENTRE 18-24 AÑOS EN RISARALDA CALDAS\n",
    "HDC_18_24 = df_d_genero[\n",
    "    (df_d_genero['DSI'] == 1) &\n",
    "    (df_d_genero['DPTO'] == 17) &\n",
    "    (df_d_genero['P6040'] >= 18) &\n",
    "    (df_d_genero['P6040'] <= 24)\n",
    "]['FEX_C18'].sum()\n",
    "print(f'PERSONAS desocupados en CALDAS entre 18-24 años: {int(HDC_18_24)}')\n",
    "\n",
    "#2. CALCULAR PEA ENTRE 18-24 AÑOS EN CALDAS\n",
    "PEA_18_24 = df_ft_genero[\n",
    "    (df_ft_genero['FT'] == 1) &\n",
    "    (df_ft_genero['DPTO'] == 17) &\n",
    "    (df_ft_genero['P6040'] >= 18) &\n",
    "    (df_ft_genero['P6040'] <= 24)\n",
    "]['FEX_C18'].sum()\n",
    "print(f'PEA en CALDAS entre 18-24 años: {int(PEA_18_24)}')\n",
    "\n",
    "#3. CALCULAR TASA DE DESEMPLEO ENTRE 18-24 AÑOS EN CALDAS\n",
    "TD_18_24 = (HDC_18_24 / PEA_18_24) * 100\n",
    "print(f'Tasa de desempleo en CALDAS entre 18-24 años: {TD_18_24:.2f}%')\n",
    "\n",
    "\n",
    "#SEGMENTO 24-30\n",
    "#1. CALCULAR CANTIDAD DE PERSONAS DESEMPLEADAS ENTRE 18-24 AÑOS EN CALDAS\n",
    "HDC_24_30 = df_d_genero[\n",
    "    (df_d_genero['DSI'] == 1) &\n",
    "    (df_d_genero['DPTO'] == 17) &\n",
    "    (df_d_genero['P6040'] >= 24) &\n",
    "    (df_d_genero['P6040'] <= 30)\n",
    "]['FEX_C18'].sum()\n",
    "print(f'PERSONAS desocupados en CALDAS entre 24-30 años: {int(HDC_24_30)}')\n",
    "\n",
    "#2. CALCULAR PEA ENTRE 24-30 AÑOS EN CALDAS\n",
    "PEA_24_30 = df_ft_genero[\n",
    "    (df_ft_genero['FT'] == 1) &\n",
    "    (df_ft_genero['DPTO'] == 17) &\n",
    "    (df_ft_genero['P6040'] >= 24) &\n",
    "    (df_ft_genero['P6040'] <= 30)\n",
    "]['FEX_C18'].sum()\n",
    "print(f'PEA en CALDAS entre 24-30 años: {int(PEA_24_30)}')\n",
    "\n",
    "#3. CALCULAR TASA DE DESEMPLEO ENTRE 24-30 AÑOS EN CALDAS\n",
    "TD_24_30 = (HDC_24_30 / PEA_24_30) * 100\n",
    "print(f'Tasa de desempleo en CALDAS entre 24-30 años: {TD_24_30:.2f}%')\n",
    "\n",
    "\n",
    "#SEGMENTO 30-40\n",
    "#1. CALCULAR CANTIDAD DE PERSONAS DESEMPLEADAS ENTRE 30-40 AÑOS EN CALDAS\n",
    "HDC_30_40 = df_d_genero[\n",
    "    (df_d_genero['DSI'] == 1) &\n",
    "    (df_d_genero['DPTO'] == 17) &\n",
    "    (df_d_genero['P6040'] >= 30) &\n",
    "    (df_d_genero['P6040'] <= 40)\n",
    "]['FEX_C18'].sum()\n",
    "print(f'PERSONAS desocupados en CALDAS entre 30-40 años: {int(HDC_30_40)}')\n",
    "\n",
    "#2. CALCULAR PEA ENTRE 30-40 AÑOS EN CALDAS\n",
    "PEA_30_40 = df_ft_genero[\n",
    "    (df_ft_genero['FT'] == 1) &\n",
    "    (df_ft_genero['DPTO'] == 17) &\n",
    "    (df_ft_genero['P6040'] >= 30) &\n",
    "    (df_ft_genero['P6040'] <= 40)\n",
    "]['FEX_C18'].sum()\n",
    "print(f'PEA en CALDAS entre 18-24 años: {int(PEA_30_40)}')\n",
    "\n",
    "#3. CALCULAR TASA DE DESEMPLEO ENTRE 18-24 AÑOS EN CALDAS\n",
    "TD_30_40 = (HDC_30_40 / PEA_30_40) * 100\n",
    "print(f'Tasa de desempleo en CALDAS entre 30-40 años: {TD_30_40:.2f}%')\n",
    "\n",
    "\n",
    "#SEGMENTO 40-50\n",
    "#1. CALCULAR CANTIDAD DE PERSONAS DESEMPLEADAS ENTRE 40-50 AÑOS EN CALDAS\n",
    "HDC_40_50 = df_d_genero[\n",
    "    (df_d_genero['DSI'] == 1) &\n",
    "    (df_d_genero['DPTO'] == 17) &\n",
    "    (df_d_genero['P6040'] >= 40) &\n",
    "    (df_d_genero['P6040'] <= 50)\n",
    "]['FEX_C18'].sum()\n",
    "print(f'PERSONAS desocupados en CALDAS entre 40-50 años: {int(HDC_40_50)}')\n",
    "\n",
    "#2. CALCULAR PEA ENTRE 40-50 AÑOS EN CALDAS\n",
    "PEA_40_50 = df_ft_genero[\n",
    "    (df_ft_genero['FT'] == 1) &\n",
    "    (df_ft_genero['DPTO'] == 17) &\n",
    "    (df_ft_genero['P6040'] >= 40) &\n",
    "    (df_ft_genero['P6040'] <= 50)\n",
    "]['FEX_C18'].sum()\n",
    "print(f'PEA en CALDAS entre 40-50 años: {int(PEA_40_50)}')\n",
    "\n",
    "#3. CALCULAR TASA DE DESEMPLEO ENTRE 40-50 AÑOS EN CALDAS\n",
    "TD_40_50 = (HDC_40_50 / PEA_40_50) * 100\n",
    "print(f'Tasa de desempleo en CALDAS entre 40-50 años: {TD_40_50:.2f}%')\n",
    "\n",
    "\n",
    "#SEGMENTO 18-24\n",
    "#1. CALCULAR CANTIDAD DE PERSONAS DESEMPLEADAS ENTRE 60 Y MAS AÑOS EN CALDAS\n",
    "HDC_60_100 = df_d_genero[\n",
    "    (df_d_genero['DSI'] == 1) &\n",
    "    (df_d_genero['DPTO'] == 17) &\n",
    "    (df_d_genero['P6040'] >= 60) &\n",
    "    (df_d_genero['P6040'] <= 100)\n",
    "]['FEX_C18'].sum()\n",
    "print(f'PERSONAS desocupados en CALDAS entre 18-24 años: {int(HDC_18_24)}')\n",
    "\n",
    "#2. CALCULAR PEA ENTRE 60 y mas AÑOS EN CALDAS\n",
    "PEA_60_100 = df_ft_genero[\n",
    "    (df_ft_genero['FT'] == 1) &\n",
    "    (df_ft_genero['DPTO'] == 17) &\n",
    "    (df_ft_genero['P6040'] >= 60) &\n",
    "    (df_ft_genero['P6040'] <= 100)\n",
    "]['FEX_C18'].sum()\n",
    "print(f'PEA en CALDAS entre 60 y mas años: {int(PEA_60_100)}')\n",
    "\n",
    "#3. CALCULAR TASA DE DESEMPLEO ENTRE 60 y mas AÑOS EN CALDAS\n",
    "TD_60_100 = (HDC_60_100/ PEA_60_100) * 100\n",
    "print(f'Tasa de desempleo en CALDAS entre 60 y mas años: {TD_60_100:.2f}%')"
   ]
  }
 ],
 "metadata": {
  "kernelspec": {
   "display_name": "Python 3",
   "language": "python",
   "name": "python3"
  },
  "language_info": {
   "codemirror_mode": {
    "name": "ipython",
    "version": 3
   },
   "file_extension": ".py",
   "mimetype": "text/x-python",
   "name": "python",
   "nbconvert_exporter": "python",
   "pygments_lexer": "ipython3",
   "version": "3.12.1"
  }
 },
 "nbformat": 4,
 "nbformat_minor": 5
}
