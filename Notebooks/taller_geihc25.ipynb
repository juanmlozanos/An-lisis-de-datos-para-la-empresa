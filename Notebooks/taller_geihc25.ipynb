{
 "cells": [
  {
   "cell_type": "code",
   "execution_count": 1,
   "id": "75601e65",
   "metadata": {},
   "outputs": [],
   "source": [
    "import pandas as pd\n",
    "import numpy as np "
   ]
  },
  {
   "cell_type": "code",
   "execution_count": 2,
   "id": "30314539",
   "metadata": {},
   "outputs": [],
   "source": [
    "url_cgsse = 'https://github.com/niconomist98/DataAnalyticsUQ/raw/refs/heads/main/Datos/GEIH2025/cgsse.CSV'\n",
    "url_ocupados = 'https://github.com/niconomist98/DataAnalyticsUQ/raw/refs/heads/main/Datos/GEIH2025/Ocupados.CSV'\n",
    "url_ft = 'https://github.com/niconomist98/DataAnalyticsUQ/raw/refs/heads/main/Datos/GEIH2025/Fuerza%20de%20trabajo.CSV'\n",
    "url_desocupados = 'https://github.com/niconomist98/DataAnalyticsUQ/raw/refs/heads/main/Datos/GEIH2025/No%20ocupados.CSV'"
   ]
  },
  {
   "cell_type": "code",
   "execution_count": 3,
   "id": "02c4e27b",
   "metadata": {},
   "outputs": [],
   "source": [
    "df_cgsse = pd.read_csv(url_cgsse, encoding='latin-1', sep=';', low_memory=False) \n",
    " \n",
    "\n",
    "#ocupados\n",
    "df_ocupados =pd.read_csv(url_ocupados, encoding='latin-1', sep=';', low_memory=False) \n",
    "\n",
    "#fuerza de trabajo \n",
    "df_ft =pd.read_csv(url_ft, encoding='latin-1', sep=';', low_memory=False) \n",
    "\n",
    "#no ocupados\n",
    "df_desocupados =pd.read_csv(url_desocupados, encoding='latin-1', sep=';', low_memory=False) \n"
   ]
  },
  {
   "cell_type": "markdown",
   "id": "aed7c120",
   "metadata": {},
   "source": [
    "#calcular poblacion total "
   ]
  },
  {
   "cell_type": "code",
   "execution_count": 40,
   "id": "c4c1c23e",
   "metadata": {},
   "outputs": [
    {
     "name": "stdout",
     "output_type": "stream",
     "text": [
      "Poblacion total: 52045001\n"
     ]
    }
   ],
   "source": [
    "PT = df_cgsse['FEX_C18'].sum()\n",
    "print(f'Poblacion total: {int(PT)}')"
   ]
  },
  {
   "cell_type": "markdown",
   "id": "93610f06",
   "metadata": {},
   "source": [
    "#Calcular poblacion en edad trabajar "
   ]
  },
  {
   "cell_type": "code",
   "execution_count": 8,
   "id": "f90379f1",
   "metadata": {},
   "outputs": [
    {
     "name": "stdout",
     "output_type": "stream",
     "text": [
      "Poblacion en edad de trabajar: 40653416.00000409\n"
     ]
    }
   ],
   "source": [
    "PET = df_cgsse[df_cgsse['P6040'] >= 15]['FEX_C18'].sum()\n",
    "print(f'Poblacion en edad de trabajar: {PET}')"
   ]
  },
  {
   "cell_type": "code",
   "execution_count": null,
   "id": "099f3cfe",
   "metadata": {},
   "outputs": [],
   "source": [
    "#población que no está en edad de trabajar"
   ]
  },
  {
   "cell_type": "code",
   "execution_count": 18,
   "id": "1da4f789",
   "metadata": {},
   "outputs": [
    {
     "name": "stdout",
     "output_type": "stream",
     "text": [
      "Poblacion que no esta en edad de trabajar: 11391585.000004958\n"
     ]
    }
   ],
   "source": [
    "PET = df_cgsse[df_cgsse['P6040'] < 15]['FEX_C18'].sum()\n",
    "print(f'Poblacion que no esta en edad de trabajar: {PET}')"
   ]
  },
  {
   "cell_type": "markdown",
   "id": "e0f0bdf2",
   "metadata": {},
   "source": [
    "# Calculo de la tasa de ocupacion \n",
    "-cantidad ocupados\n",
    "-cantidad PEA \n",
    "-O/PEA"
   ]
  },
  {
   "cell_type": "code",
   "execution_count": 23,
   "id": "0eff5d97",
   "metadata": {},
   "outputs": [
    {
     "name": "stdout",
     "output_type": "stream",
     "text": [
      "Poblacion en edad de trabajar: 23752952\n",
      "Poblacion en fuerza de trabajo: 40653416\n",
      "Tasa de ocupacion: 58.43%\n"
     ]
    }
   ],
   "source": [
    "#calcular ocupados\n",
    "O = int(df_ocupados['FEX_C18'].sum())\n",
    "print(f'Poblacion en edad de trabajar: {int(df_ocupados[\"FEX_C18\"].sum())}')\n",
    "\n",
    "PET = int(df_ft['FEX_C18'].sum())\n",
    "print(f'Poblacion en fuerza de trabajo: {int(df_ft[\"FEX_C18\"].sum())}')\n",
    "\n",
    "TO= (O/PET)*100\n",
    "print(f'Tasa de ocupacion: {TO:.2f}%')"
   ]
  },
  {
   "cell_type": "code",
   "execution_count": 31,
   "id": "f058d352",
   "metadata": {},
   "outputs": [
    {
     "name": "stdout",
     "output_type": "stream",
     "text": [
      "Poblacion desocupada: 16900463\n",
      "Tasa de desempleo (TD): 65.06472783144194 %\n"
     ]
    }
   ],
   "source": [
    "# Desocupados\n",
    "desocupados_total = df_desocupados[\"FEX_C18\"].sum()\n",
    "\n",
    "D = int(df_desocupados['FEX_C18'].sum())\n",
    "print(f'Poblacion desocupada: {int(df_desocupados[\"FEX_C18\"].sum())}')\n",
    "PEA = df_ft[df_ft['FT'] == 1]['FEX_C18'].sum()\n",
    "\n",
    "\n",
    "tasa_desempleo = (D / PEA) * 100\n",
    "\n",
    "print(\"Tasa de desempleo (TD):\", tasa_desempleo, \"%\")\n"
   ]
  },
  {
   "cell_type": "code",
   "execution_count": null,
   "id": "4e43fe33",
   "metadata": {},
   "outputs": [],
   "source": [
    "#calculando da PEA y PEI "
   ]
  },
  {
   "cell_type": "code",
   "execution_count": 28,
   "id": "11e2a98c",
   "metadata": {},
   "outputs": [
    {
     "name": "stdout",
     "output_type": "stream",
     "text": [
      "Poblacion economicamente activa: 25974846\n",
      "Poblacion economicamente inactiva: 25974846\n"
     ]
    }
   ],
   "source": [
    "PEA = df_ft[df_ft['FT'] == 1]['FEX_C18'].sum()\n",
    "print(f'Poblacion economicamente activa: {int (PEA)}')\n",
    "\n",
    "PEI= df_ft[df_ft['FFT'] == 1]['FEX_C18'].sum()\n",
    "print(f'Poblacion economicamente inactiva: {int (PEA)}')"
   ]
  }
 ],
 "metadata": {
  "kernelspec": {
   "display_name": "Python 3",
   "language": "python",
   "name": "python3"
  },
  "language_info": {
   "codemirror_mode": {
    "name": "ipython",
    "version": 3
   },
   "file_extension": ".py",
   "mimetype": "text/x-python",
   "name": "python",
   "nbconvert_exporter": "python",
   "pygments_lexer": "ipython3",
   "version": "3.12.1"
  }
 },
 "nbformat": 4,
 "nbformat_minor": 5
}
