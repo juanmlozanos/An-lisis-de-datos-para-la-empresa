{
 "cells": [
  {
   "cell_type": "code",
   "execution_count": 1,
   "id": "75601e65",
   "metadata": {},
   "outputs": [],
   "source": [
    "import pandas as pd\n",
    "import numpy as np "
   ]
  },
  {
   "cell_type": "code",
   "execution_count": 2,
   "id": "30314539",
   "metadata": {},
   "outputs": [],
   "source": [
    "url_cgsse = 'https://github.com/niconomist98/DataAnalyticsUQ/raw/refs/heads/main/Datos/GEIH2025/cgsse.CSV'\n",
    "url_ocupados = 'https://github.com/niconomist98/DataAnalyticsUQ/raw/refs/heads/main/Datos/GEIH2025/Ocupados.CSV'\n",
    "url_ft = 'https://github.com/niconomist98/DataAnalyticsUQ/raw/refs/heads/main/Datos/GEIH2025/Fuerza%20de%20trabajo.CSV'\n",
    "url_desocupados = 'https://github.com/niconomist98/DataAnalyticsUQ/raw/refs/heads/main/Datos/GEIH2025/No%20ocupados.CSV'"
   ]
  },
  {
   "cell_type": "code",
   "execution_count": 22,
   "id": "02c4e27b",
   "metadata": {},
   "outputs": [],
   "source": [
    "df_cgsse = pd.read_csv(url_cgsse, encoding='latin-1', sep=';', low_memory=False) \n",
    " \n",
    "\n",
    "#ocupados\n",
    "df_ocupados =pd.read_csv(url_ocupados, encoding='latin-1', sep=';', low_memory=False) \n",
    "\n",
    "#fuerza de trabajo \n",
    "df_ft =pd.read_csv(url_ft, encoding='latin-1', sep=';', low_memory=False) \n",
    "\n",
    "#no ocupados\n",
    "df_desocupados =pd.read_csv(url_desocupados, encoding='latin-1', sep=';', low_memory=False) \n"
   ]
  },
  {
   "cell_type": "markdown",
   "id": "aed7c120",
   "metadata": {},
   "source": [
    "calcular poblacion total "
   ]
  },
  {
   "cell_type": "code",
   "execution_count": 4,
   "id": "c4c1c23e",
   "metadata": {},
   "outputs": [
    {
     "name": "stdout",
     "output_type": "stream",
     "text": [
      "Poblacion total: 52045001\n"
     ]
    }
   ],
   "source": [
    "PT = df_cgsse['FEX_C18'].sum()\n",
    "print(f'Poblacion total: {int(PT)}')"
   ]
  },
  {
   "cell_type": "markdown",
   "id": "93610f06",
   "metadata": {},
   "source": [
    "#Calcular poblacion en edad trabajar "
   ]
  },
  {
   "cell_type": "code",
   "execution_count": 5,
   "id": "f90379f1",
   "metadata": {},
   "outputs": [
    {
     "name": "stdout",
     "output_type": "stream",
     "text": [
      "Poblacion en edad de trabajar: 40653416.00000409\n"
     ]
    }
   ],
   "source": [
    "PET = df_cgsse[df_cgsse['P6040'] >= 15]['FEX_C18'].sum()\n",
    "print(f'Poblacion en edad de trabajar: {PET}')"
   ]
  },
  {
   "cell_type": "code",
   "execution_count": 6,
   "id": "099f3cfe",
   "metadata": {},
   "outputs": [],
   "source": [
    "#población que no está en edad de trabajar"
   ]
  },
  {
   "cell_type": "code",
   "execution_count": 7,
   "id": "1da4f789",
   "metadata": {},
   "outputs": [
    {
     "name": "stdout",
     "output_type": "stream",
     "text": [
      "Poblacion que no esta en edad de trabajar: 11391585.000004958\n"
     ]
    }
   ],
   "source": [
    "PET = df_cgsse[df_cgsse['P6040'] < 15]['FEX_C18'].sum()\n",
    "print(f'Poblacion que no esta en edad de trabajar: {PET}')"
   ]
  },
  {
   "cell_type": "markdown",
   "id": "e0f0bdf2",
   "metadata": {},
   "source": [
    "# Calculo de la tasa de ocupacion \n",
    "-cantidad ocupados\n",
    "-cantidad PEA \n",
    "-O/PEA"
   ]
  },
  {
   "cell_type": "code",
   "execution_count": 8,
   "id": "0eff5d97",
   "metadata": {},
   "outputs": [
    {
     "name": "stdout",
     "output_type": "stream",
     "text": [
      "Poblacion en edad de trabajar: 23752952\n",
      "Poblacion en fuerza de trabajo: 40653416\n",
      "Tasa de ocupacion: 58.43%\n"
     ]
    }
   ],
   "source": [
    "#calcular ocupados\n",
    "O = int(df_ocupados['FEX_C18'].sum())\n",
    "print(f'Poblacion en edad de trabajar: {int(df_ocupados[\"FEX_C18\"].sum())}')\n",
    "\n",
    "PET = int(df_ft['FEX_C18'].sum())\n",
    "print(f'Poblacion en fuerza de trabajo: {int(df_ft[\"FEX_C18\"].sum())}')\n",
    "\n",
    "TO= (O/PET)*100\n",
    "print(f'Tasa de ocupacion: {TO:.2f}%')"
   ]
  },
  {
   "cell_type": "code",
   "execution_count": 18,
   "id": "f058d352",
   "metadata": {},
   "outputs": [
    {
     "name": "stdout",
     "output_type": "stream",
     "text": [
      "Poblacion desocupada: 16900463\n",
      "Tasa de desempleo (TD): 8.554017917472796 %\n"
     ]
    }
   ],
   "source": [
    "# Desocupados\n",
    "desocupados_total = df_desocupados['FEX_C18'].sum()\n",
    "\n",
    "D = int(df_desocupados[df_desocupados['DSI'] == 1]['FEX_C18'].sum())\n",
    "print(f'Poblacion desocupada: {int(df_desocupados[\"FEX_C18\"].sum())}')\n",
    "PEA = df_ft[df_ft['FT'] == 1]['FEX_C18'].sum()\n",
    "\n",
    "tasa_desempleo = (D / PEA) * 100\n",
    "\n",
    "print(\"Tasa de desempleo (TD):\", tasa_desempleo, \"%\")\n"
   ]
  },
  {
   "cell_type": "code",
   "execution_count": 10,
   "id": "4e43fe33",
   "metadata": {},
   "outputs": [],
   "source": [
    "#calculando da PEA y PEI "
   ]
  },
  {
   "cell_type": "code",
   "execution_count": 11,
   "id": "11e2a98c",
   "metadata": {},
   "outputs": [
    {
     "name": "stdout",
     "output_type": "stream",
     "text": [
      "Poblacion economicamente activa: 25974846\n",
      "Poblacion economicamente inactiva: 25974846\n"
     ]
    }
   ],
   "source": [
    "PEA = df_ft[df_ft['FT'] == 1]['FEX_C18'].sum()\n",
    "print(f'Poblacion economicamente activa: {int (PEA)}')\n",
    "\n",
    "PEI= df_ft[df_ft['FFT'] == 1]['FEX_C18'].sum()\n",
    "print(f'Poblacion economicamente inactiva: {int (PEA)}')"
   ]
  },
  {
   "cell_type": "code",
   "execution_count": 23,
   "id": "bfdd5194",
   "metadata": {},
   "outputs": [
    {
     "name": "stdout",
     "output_type": "stream",
     "text": [
      "[ 8 70 41 63 66  5 11 13 15 17 18 19 20 23 25 27 44 47 50 52 54 68 73 76\n",
      " 81 85 86 88 91 94 95 97 99]\n"
     ]
    }
   ],
   "source": [
    "departamentos = df_ft['DPTO'].unique()\n",
    "print(departamentos)"
   ]
  },
  {
   "cell_type": "markdown",
   "id": "2bbdbe1d",
   "metadata": {},
   "source": [
    "#calcular tasa desempleo Quindio\n",
    "#que se necesita\n",
    "#formula TDHQ = HD/PEAHQ -> HDQ : hombres desempleados en el quindio, "
   ]
  },
  {
   "cell_type": "code",
   "execution_count": 46,
   "id": "503cec0d",
   "metadata": {},
   "outputs": [],
   "source": [
    "#debemos anexar la p3371 a la tabla desemplados \n",
    "df_d_genero = pd.merge(df_desocupados, df_cgsse[['DIRECTORIO','SECUENCIA_P', 'ORDEN', 'P3271']], on=['DIRECTORIO','SECUENCIA_P', 'ORDEN'], how ='left')\n",
    "df_ft_genero = pd.merge(df_ft, df_cgsse[['DIRECTORIO','SECUENCIA_P', 'ORDEN', 'P3271']], on=['DIRECTORIO','SECUENCIA_P', 'ORDEN'], how ='left')\n"
   ]
  },
  {
   "cell_type": "code",
   "execution_count": 50,
   "id": "f3ea9447",
   "metadata": {},
   "outputs": [
    {
     "name": "stdout",
     "output_type": "stream",
     "text": [
      "Hombres desocupados en Quindio: 17869\n",
      "PEA hombres en Quindio: 174625\n",
      "Tasa de desempleo hombres en Quindio: 10.23\n"
     ]
    }
   ],
   "source": [
    "# 1. calcular hombres desocupados en Quindio usando df_d_genero (ya contiene P3271)\n",
    "HDQ = df_d_genero[\n",
    "\t(df_d_genero['DSI'] == 1) &\n",
    "\t(df_d_genero['DPTO'] == 63) &\n",
    "\t(df_d_genero['P3271'] == 1)\n",
    "]['FEX_C18'].sum()\n",
    "print(f'Hombres desocupados en Quindio: {int(HDQ)}')\n",
    "\n",
    "# 2. PEA hombres en Quindio usando df_d_genero\n",
    "PEAHQ = df_ft_genero[\n",
    "\t(df_ft_genero['FT'] == 1) &\n",
    "\t(df_ft_genero['DPTO'] == 63) &\n",
    "\t(df_ft_genero['P3271'] == 1)\n",
    "]['FEX_C18'].sum()\n",
    "print(f'PEA hombres en Quindio: {int(PEAHQ)}')\n",
    "\n",
    "# 3. Tasa de desempleo hombres en Quindio\n",
    "TDHQ = (HDQ / PEAHQ) * 100\n",
    "print(f'Tasa de desempleo hombres en Quindio: {TDHQ:.2f}')\n"
   ]
  },
  {
   "cell_type": "code",
   "execution_count": 51,
   "id": "d7b9b390",
   "metadata": {},
   "outputs": [
    {
     "name": "stdout",
     "output_type": "stream",
     "text": [
      "Mujeres desocupadas en Quindio: 10618\n",
      "PEA Mujeres en Quindio: 116885\n",
      "Tasa de desempleo Mujeres en Quindio: 9.08\n"
     ]
    }
   ],
   "source": [
    "# 2. calcular mujeres desocupados en Quindio\n",
    "# 1. calcular hombres desocupados en Quindio usando df_d_genero (ya contiene P3271)\n",
    "HDQ = df_d_genero[\n",
    "\t(df_d_genero['DSI'] == 1) &\n",
    "\t(df_d_genero['DPTO'] == 63) &\n",
    "\t(df_d_genero['P3271'] == 2)\n",
    "]['FEX_C18'].sum()\n",
    "print(f'Mujeres desocupadas en Quindio: {int(HDQ)}')\n",
    "\n",
    "# 2. PEA hombres en Quindio usando df_d_genero\n",
    "PEAHQ = df_ft_genero[\n",
    "\t(df_ft_genero['FT'] == 1) &\n",
    "\t(df_ft_genero['DPTO'] == 63) &\n",
    "\t(df_ft_genero['P3271'] ==2)\n",
    "]['FEX_C18'].sum()\n",
    "print(f'PEA Mujeres en Quindio: {int(PEAHQ)}')\n",
    "\n",
    "# 3. Tasa de desempleo hombres en Quindio\n",
    "TDHQ = (HDQ / PEAHQ) * 100\n",
    "print(f'Tasa de desempleo Mujeres en Quindio: {TDHQ:.2f}')"
   ]
  },
  {
   "cell_type": "code",
   "execution_count": 59,
   "id": "cc38d796",
   "metadata": {},
   "outputs": [
    {
     "name": "stdout",
     "output_type": "stream",
     "text": [
      "hombres desocupados en Risaralda: 18000\n",
      "PEA hombres en Risaralda: 296342\n",
      "Tasa de desempleo Hombres en Risaralda: 6.07\n"
     ]
    }
   ],
   "source": [
    "# 1. calcular hombres desocupados en Risaralda\n",
    "HDR = df_d_genero[\n",
    "\t(df_d_genero['DSI'] == 1) &\n",
    "\t(df_d_genero['DPTO'] == 66) &\n",
    "\t(df_d_genero['P3271'] == 1)\n",
    "]['FEX_C18'].sum()\n",
    "print(f'hombres desocupados en Risaralda: {int(HDR)}')\n",
    "\n",
    "# 2. PEA hombres en Risaralda usando df_d_genero\n",
    "PEAHR = df_ft_genero[\n",
    "\t(df_ft_genero['FT'] == 1) &\n",
    "\t(df_ft_genero['DPTO'] == 66) &\n",
    "\t(df_ft_genero['P3271'] ==1)\n",
    "]['FEX_C18'].sum()\n",
    "print(f'PEA hombres en Risaralda: {int(PEAHR)}')\n",
    "\n",
    "# 3. Tasa de desempleo hombres en Risaralda\n",
    "TDHR = (HDR / PEAHR) * 100\n",
    "print(f'Tasa de desempleo Hombres en Risaralda: {TDHR:.2f}')"
   ]
  },
  {
   "cell_type": "code",
   "execution_count": 54,
   "id": "72ede4b1",
   "metadata": {},
   "outputs": [
    {
     "name": "stdout",
     "output_type": "stream",
     "text": [
      "Mujeres desocupadas en Risaralda: 21676\n",
      "PEA Mujeres en Risaralda: 116885\n",
      "Tasa de desempleo Mujeres en Risaralda: 15.40\n"
     ]
    }
   ],
   "source": [
    "# 2. calcular mujeres desocupados en Risaralda\n",
    "HDR = df_d_genero[\n",
    "\t(df_d_genero['DSI'] == 1) &\n",
    "\t(df_d_genero['DPTO'] == 66) &\n",
    "\t(df_d_genero['P3271'] == 2)\n",
    "]['FEX_C18'].sum()\n",
    "print(f'Mujeres desocupadas en Risaralda: {int(HDR)}')\n",
    "\n",
    "# 2. PEA Mujeres en Risaralda usando df_d_genero\n",
    "PEAHR = df_ft_genero[\n",
    "\t(df_ft_genero['FT'] == 1) &\n",
    "\t(df_ft_genero['DPTO'] == 66) &\n",
    "\t(df_ft_genero['P3271'] ==2)\n",
    "]['FEX_C18'].sum()\n",
    "print(f'PEA Mujeres en Risaralda: {int(PEAHQ)}')\n",
    "\n",
    "# 3. Tasa de desempleo Mujeres en Risaralda\n",
    "TDHQ = (HDR / PEAHR) * 100\n",
    "print(f'Tasa de desempleo Mujeres en Risaralda: {TDHR:.2f}')"
   ]
  },
  {
   "cell_type": "code",
   "execution_count": 55,
   "id": "4f5b92b1",
   "metadata": {},
   "outputs": [
    {
     "name": "stdout",
     "output_type": "stream",
     "text": [
      "hombres desocupados en Caldas: 18226\n",
      "PEA hombres en Caldas: 203157\n",
      "Tasa de desempleo Hombres en Caldas: 5.58\n"
     ]
    }
   ],
   "source": [
    "# 1. calcular hombres desocupados en Caldas\n",
    "HDC= df_d_genero[\n",
    "\t(df_d_genero['DSI'] == 1) &\n",
    "\t(df_d_genero['DPTO'] == 17) &\n",
    "\t(df_d_genero['P3271'] == 1)\n",
    "]['FEX_C18'].sum()\n",
    "print(f'hombres desocupados en Caldas: {int(HDC)}')\n",
    "\n",
    "# 2. PEA hombres en Caldas usando df_d_genero\n",
    "PEAHC = df_ft_genero[\n",
    "\t(df_ft_genero['FT'] == 1) &\n",
    "\t(df_ft_genero['DPTO'] == 17) &\n",
    "\t(df_ft_genero['P3271'] ==1)\n",
    "]['FEX_C18'].sum()\n",
    "print(f'PEA hombres en Caldas: {int(PEAHR)}')\n",
    "\n",
    "# 3. Tasa de desempleo hombres en Caldas\n",
    "TDHC = (HDC / PEAHC) * 100\n",
    "print(f'Tasa de desempleo Hombres en Caldas: {TDHC:.2f}')"
   ]
  },
  {
   "cell_type": "code",
   "execution_count": 56,
   "id": "470ef19a",
   "metadata": {},
   "outputs": [
    {
     "name": "stdout",
     "output_type": "stream",
     "text": [
      "Mujeres desocupadas en Caldas: 17214\n",
      "PEA Mujeres en Caldas: 224206\n",
      "Tasa de desempleo Mujeres en CALDAS: 8.13\n"
     ]
    }
   ],
   "source": [
    "# 2. calcular mujeres desocupadas en Caldas\n",
    "HDR = df_d_genero[\n",
    "\t(df_d_genero['DSI'] == 1) &\n",
    "\t(df_d_genero['DPTO'] == 17) &\n",
    "\t(df_d_genero['P3271'] == 2)\n",
    "]['FEX_C18'].sum()\n",
    "print(f'Mujeres desocupadas en Caldas: {int(HDR)}')\n",
    "\n",
    "# 2. PEA Mujeres en Caldas usando df_d_genero\n",
    "PEAHC = df_ft_genero[\n",
    "\t(df_ft_genero['FT'] == 1) &\n",
    "\t(df_ft_genero['DPTO'] == 17) &\n",
    "\t(df_ft_genero['P3271'] ==2)\n",
    "]['FEX_C18'].sum()\n",
    "print(f'PEA Mujeres en Caldas: {int(PEAHC)}')\n",
    "\n",
    "# 3. Tasa de desempleo Mujeres en Risaralda\n",
    "TDHC = (HDC / PEAHC) * 100\n",
    "print(f'Tasa de desempleo Mujeres en CALDAS: {TDHC:.2f}')"
   ]
  }
 ],
 "metadata": {
  "kernelspec": {
   "display_name": "Python 3",
   "language": "python",
   "name": "python3"
  },
  "language_info": {
   "codemirror_mode": {
    "name": "ipython",
    "version": 3
   },
   "file_extension": ".py",
   "mimetype": "text/x-python",
   "name": "python",
   "nbconvert_exporter": "python",
   "pygments_lexer": "ipython3",
   "version": "3.12.1"
  }
 },
 "nbformat": 4,
 "nbformat_minor": 5
}
