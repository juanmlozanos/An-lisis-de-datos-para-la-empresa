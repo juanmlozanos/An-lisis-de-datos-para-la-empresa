{
 "cells": [
  {
   "cell_type": "code",
   "execution_count": 3,
   "id": "31d21a63",
   "metadata": {},
   "outputs": [],
   "source": [
    "import pandas as pd\n",
    "import numpy as np "
   ]
  },
  {
   "cell_type": "code",
   "execution_count": 4,
   "id": "66355bba",
   "metadata": {},
   "outputs": [],
   "source": [
    "#link conjunto de datos \n",
    "url_cgsse = 'https://github.com/niconomist98/DataAnalyticsUQ/raw/refs/heads/main/Datos/GEIH2025/cgsse.CSV'\n",
    "url_ocupados = 'https://github.com/niconomist98/DataAnalyticsUQ/raw/refs/heads/main/Datos/GEIH2025/Ocupados.CSV'\n",
    "url_ft = 'https://github.com/niconomist98/DataAnalyticsUQ/raw/refs/heads/main/Datos/GEIH2025/Fuerza%20de%20trabajo.CSV'\n",
    "url_desocupados = 'https://github.com/niconomist98/DataAnalyticsUQ/raw/refs/heads/main/Datos/GEIH2025/No%20ocupados.CSV'"
   ]
  },
  {
   "cell_type": "code",
   "execution_count": 9,
   "id": "1a97c6c5",
   "metadata": {},
   "outputs": [],
   "source": [
    "#creacion de variables\n",
    "\n",
    "#CGSSE\n",
    "df_cgsse = pd.read_csv(url_cgsse, encoding='latin-1', sep=';', low_memory=False) \n",
    " \n",
    "\n",
    "#ocupados\n",
    "df_ocupados =pd.read_csv(url_ocupados, encoding='latin-1', sep=';', low_memory=False) \n",
    "\n",
    "#fuerza de trabajo \n",
    "df_ft =pd.read_csv(url_ft, encoding='latin-1', sep=';', low_memory=False) \n",
    "\n",
    "#no ocupados\n",
    "df_desocupados =pd.read_csv(url_desocupados, encoding='latin-1', sep=';', low_memory=False) \n"
   ]
  },
  {
   "cell_type": "code",
   "execution_count": 10,
   "id": "24e1308f",
   "metadata": {},
   "outputs": [
    {
     "data": {
      "text/html": [
       "<div>\n",
       "<style scoped>\n",
       "    .dataframe tbody tr th:only-of-type {\n",
       "        vertical-align: middle;\n",
       "    }\n",
       "\n",
       "    .dataframe tbody tr th {\n",
       "        vertical-align: top;\n",
       "    }\n",
       "\n",
       "    .dataframe thead th {\n",
       "        text-align: right;\n",
       "    }\n",
       "</style>\n",
       "<table border=\"1\" class=\"dataframe\">\n",
       "  <thead>\n",
       "    <tr style=\"text-align: right;\">\n",
       "      <th></th>\n",
       "      <th>PERIODO</th>\n",
       "      <th>MES</th>\n",
       "      <th>PER</th>\n",
       "      <th>DIRECTORIO</th>\n",
       "      <th>SECUENCIA_P</th>\n",
       "      <th>ORDEN</th>\n",
       "      <th>HOGAR</th>\n",
       "      <th>REGIS</th>\n",
       "      <th>AREA</th>\n",
       "      <th>CLASE</th>\n",
       "      <th>...</th>\n",
       "      <th>P6170</th>\n",
       "      <th>P3041</th>\n",
       "      <th>P3042</th>\n",
       "      <th>P3042S1</th>\n",
       "      <th>P3042S2</th>\n",
       "      <th>P3043</th>\n",
       "      <th>P3043S1</th>\n",
       "      <th>P3038</th>\n",
       "      <th>P3039</th>\n",
       "      <th>POB_MAY18</th>\n",
       "    </tr>\n",
       "  </thead>\n",
       "  <tbody>\n",
       "    <tr>\n",
       "      <th>0</th>\n",
       "      <td>20250626</td>\n",
       "      <td>6</td>\n",
       "      <td>2025</td>\n",
       "      <td>8238974</td>\n",
       "      <td>1</td>\n",
       "      <td>1</td>\n",
       "      <td>1</td>\n",
       "      <td>10</td>\n",
       "      <td>NaN</td>\n",
       "      <td>2</td>\n",
       "      <td>...</td>\n",
       "      <td>2.0</td>\n",
       "      <td>NaN</td>\n",
       "      <td>5.0</td>\n",
       "      <td>2.0</td>\n",
       "      <td>NaN</td>\n",
       "      <td>2.0</td>\n",
       "      <td>NaN</td>\n",
       "      <td>1.0</td>\n",
       "      <td>2.0</td>\n",
       "      <td>1.0</td>\n",
       "    </tr>\n",
       "    <tr>\n",
       "      <th>1</th>\n",
       "      <td>20250626</td>\n",
       "      <td>6</td>\n",
       "      <td>2025</td>\n",
       "      <td>8238974</td>\n",
       "      <td>1</td>\n",
       "      <td>2</td>\n",
       "      <td>1</td>\n",
       "      <td>10</td>\n",
       "      <td>NaN</td>\n",
       "      <td>2</td>\n",
       "      <td>...</td>\n",
       "      <td>2.0</td>\n",
       "      <td>NaN</td>\n",
       "      <td>5.0</td>\n",
       "      <td>1.0</td>\n",
       "      <td>NaN</td>\n",
       "      <td>1.0</td>\n",
       "      <td>NaN</td>\n",
       "      <td>2.0</td>\n",
       "      <td>1.0</td>\n",
       "      <td>1.0</td>\n",
       "    </tr>\n",
       "    <tr>\n",
       "      <th>2</th>\n",
       "      <td>20250626</td>\n",
       "      <td>6</td>\n",
       "      <td>2025</td>\n",
       "      <td>8238975</td>\n",
       "      <td>1</td>\n",
       "      <td>1</td>\n",
       "      <td>1</td>\n",
       "      <td>10</td>\n",
       "      <td>NaN</td>\n",
       "      <td>2</td>\n",
       "      <td>...</td>\n",
       "      <td>2.0</td>\n",
       "      <td>NaN</td>\n",
       "      <td>3.0</td>\n",
       "      <td>3.0</td>\n",
       "      <td>NaN</td>\n",
       "      <td>NaN</td>\n",
       "      <td>NaN</td>\n",
       "      <td>2.0</td>\n",
       "      <td>1.0</td>\n",
       "      <td>1.0</td>\n",
       "    </tr>\n",
       "    <tr>\n",
       "      <th>3</th>\n",
       "      <td>20250626</td>\n",
       "      <td>6</td>\n",
       "      <td>2025</td>\n",
       "      <td>8238975</td>\n",
       "      <td>1</td>\n",
       "      <td>2</td>\n",
       "      <td>1</td>\n",
       "      <td>10</td>\n",
       "      <td>NaN</td>\n",
       "      <td>2</td>\n",
       "      <td>...</td>\n",
       "      <td>2.0</td>\n",
       "      <td>NaN</td>\n",
       "      <td>1.0</td>\n",
       "      <td>0.0</td>\n",
       "      <td>NaN</td>\n",
       "      <td>NaN</td>\n",
       "      <td>NaN</td>\n",
       "      <td>2.0</td>\n",
       "      <td>1.0</td>\n",
       "      <td>1.0</td>\n",
       "    </tr>\n",
       "    <tr>\n",
       "      <th>4</th>\n",
       "      <td>20250626</td>\n",
       "      <td>6</td>\n",
       "      <td>2025</td>\n",
       "      <td>8238975</td>\n",
       "      <td>1</td>\n",
       "      <td>3</td>\n",
       "      <td>1</td>\n",
       "      <td>10</td>\n",
       "      <td>NaN</td>\n",
       "      <td>2</td>\n",
       "      <td>...</td>\n",
       "      <td>2.0</td>\n",
       "      <td>NaN</td>\n",
       "      <td>1.0</td>\n",
       "      <td>0.0</td>\n",
       "      <td>NaN</td>\n",
       "      <td>NaN</td>\n",
       "      <td>NaN</td>\n",
       "      <td>1.0</td>\n",
       "      <td>2.0</td>\n",
       "      <td>1.0</td>\n",
       "    </tr>\n",
       "    <tr>\n",
       "      <th>...</th>\n",
       "      <td>...</td>\n",
       "      <td>...</td>\n",
       "      <td>...</td>\n",
       "      <td>...</td>\n",
       "      <td>...</td>\n",
       "      <td>...</td>\n",
       "      <td>...</td>\n",
       "      <td>...</td>\n",
       "      <td>...</td>\n",
       "      <td>...</td>\n",
       "      <td>...</td>\n",
       "      <td>...</td>\n",
       "      <td>...</td>\n",
       "      <td>...</td>\n",
       "      <td>...</td>\n",
       "      <td>...</td>\n",
       "      <td>...</td>\n",
       "      <td>...</td>\n",
       "      <td>...</td>\n",
       "      <td>...</td>\n",
       "      <td>...</td>\n",
       "    </tr>\n",
       "    <tr>\n",
       "      <th>67851</th>\n",
       "      <td>20250626</td>\n",
       "      <td>6</td>\n",
       "      <td>2025</td>\n",
       "      <td>8283060</td>\n",
       "      <td>1</td>\n",
       "      <td>1</td>\n",
       "      <td>1</td>\n",
       "      <td>10</td>\n",
       "      <td>88.0</td>\n",
       "      <td>1</td>\n",
       "      <td>...</td>\n",
       "      <td>2.0</td>\n",
       "      <td>NaN</td>\n",
       "      <td>5.0</td>\n",
       "      <td>2.0</td>\n",
       "      <td>NaN</td>\n",
       "      <td>2.0</td>\n",
       "      <td>NaN</td>\n",
       "      <td>1.0</td>\n",
       "      <td>2.0</td>\n",
       "      <td>1.0</td>\n",
       "    </tr>\n",
       "    <tr>\n",
       "      <th>67852</th>\n",
       "      <td>20250626</td>\n",
       "      <td>6</td>\n",
       "      <td>2025</td>\n",
       "      <td>8283060</td>\n",
       "      <td>1</td>\n",
       "      <td>2</td>\n",
       "      <td>1</td>\n",
       "      <td>10</td>\n",
       "      <td>88.0</td>\n",
       "      <td>1</td>\n",
       "      <td>...</td>\n",
       "      <td>2.0</td>\n",
       "      <td>NaN</td>\n",
       "      <td>5.0</td>\n",
       "      <td>2.0</td>\n",
       "      <td>NaN</td>\n",
       "      <td>2.0</td>\n",
       "      <td>NaN</td>\n",
       "      <td>2.0</td>\n",
       "      <td>1.0</td>\n",
       "      <td>1.0</td>\n",
       "    </tr>\n",
       "    <tr>\n",
       "      <th>67853</th>\n",
       "      <td>20250626</td>\n",
       "      <td>6</td>\n",
       "      <td>2025</td>\n",
       "      <td>8283062</td>\n",
       "      <td>1</td>\n",
       "      <td>1</td>\n",
       "      <td>1</td>\n",
       "      <td>10</td>\n",
       "      <td>94.0</td>\n",
       "      <td>1</td>\n",
       "      <td>...</td>\n",
       "      <td>2.0</td>\n",
       "      <td>NaN</td>\n",
       "      <td>3.0</td>\n",
       "      <td>3.0</td>\n",
       "      <td>NaN</td>\n",
       "      <td>NaN</td>\n",
       "      <td>NaN</td>\n",
       "      <td>2.0</td>\n",
       "      <td>1.0</td>\n",
       "      <td>1.0</td>\n",
       "    </tr>\n",
       "    <tr>\n",
       "      <th>67854</th>\n",
       "      <td>20250626</td>\n",
       "      <td>6</td>\n",
       "      <td>2025</td>\n",
       "      <td>8283062</td>\n",
       "      <td>1</td>\n",
       "      <td>2</td>\n",
       "      <td>1</td>\n",
       "      <td>10</td>\n",
       "      <td>94.0</td>\n",
       "      <td>1</td>\n",
       "      <td>...</td>\n",
       "      <td>2.0</td>\n",
       "      <td>NaN</td>\n",
       "      <td>3.0</td>\n",
       "      <td>2.0</td>\n",
       "      <td>NaN</td>\n",
       "      <td>NaN</td>\n",
       "      <td>NaN</td>\n",
       "      <td>1.0</td>\n",
       "      <td>2.0</td>\n",
       "      <td>1.0</td>\n",
       "    </tr>\n",
       "    <tr>\n",
       "      <th>67855</th>\n",
       "      <td>20250626</td>\n",
       "      <td>6</td>\n",
       "      <td>2025</td>\n",
       "      <td>8283062</td>\n",
       "      <td>1</td>\n",
       "      <td>3</td>\n",
       "      <td>1</td>\n",
       "      <td>10</td>\n",
       "      <td>94.0</td>\n",
       "      <td>1</td>\n",
       "      <td>...</td>\n",
       "      <td>2.0</td>\n",
       "      <td>NaN</td>\n",
       "      <td>5.0</td>\n",
       "      <td>2.0</td>\n",
       "      <td>NaN</td>\n",
       "      <td>2.0</td>\n",
       "      <td>NaN</td>\n",
       "      <td>1.0</td>\n",
       "      <td>2.0</td>\n",
       "      <td>1.0</td>\n",
       "    </tr>\n",
       "  </tbody>\n",
       "</table>\n",
       "<p>67856 rows × 55 columns</p>\n",
       "</div>"
      ],
      "text/plain": [
       "        PERIODO  MES   PER  DIRECTORIO  SECUENCIA_P  ORDEN  HOGAR  REGIS  \\\n",
       "0      20250626    6  2025     8238974            1      1      1     10   \n",
       "1      20250626    6  2025     8238974            1      2      1     10   \n",
       "2      20250626    6  2025     8238975            1      1      1     10   \n",
       "3      20250626    6  2025     8238975            1      2      1     10   \n",
       "4      20250626    6  2025     8238975            1      3      1     10   \n",
       "...         ...  ...   ...         ...          ...    ...    ...    ...   \n",
       "67851  20250626    6  2025     8283060            1      1      1     10   \n",
       "67852  20250626    6  2025     8283060            1      2      1     10   \n",
       "67853  20250626    6  2025     8283062            1      1      1     10   \n",
       "67854  20250626    6  2025     8283062            1      2      1     10   \n",
       "67855  20250626    6  2025     8283062            1      3      1     10   \n",
       "\n",
       "       AREA  CLASE  ...  P6170  P3041  P3042  P3042S1  P3042S2  P3043  \\\n",
       "0       NaN      2  ...    2.0    NaN    5.0      2.0      NaN    2.0   \n",
       "1       NaN      2  ...    2.0    NaN    5.0      1.0      NaN    1.0   \n",
       "2       NaN      2  ...    2.0    NaN    3.0      3.0      NaN    NaN   \n",
       "3       NaN      2  ...    2.0    NaN    1.0      0.0      NaN    NaN   \n",
       "4       NaN      2  ...    2.0    NaN    1.0      0.0      NaN    NaN   \n",
       "...     ...    ...  ...    ...    ...    ...      ...      ...    ...   \n",
       "67851  88.0      1  ...    2.0    NaN    5.0      2.0      NaN    2.0   \n",
       "67852  88.0      1  ...    2.0    NaN    5.0      2.0      NaN    2.0   \n",
       "67853  94.0      1  ...    2.0    NaN    3.0      3.0      NaN    NaN   \n",
       "67854  94.0      1  ...    2.0    NaN    3.0      2.0      NaN    NaN   \n",
       "67855  94.0      1  ...    2.0    NaN    5.0      2.0      NaN    2.0   \n",
       "\n",
       "       P3043S1  P3038  P3039  POB_MAY18  \n",
       "0          NaN    1.0    2.0        1.0  \n",
       "1          NaN    2.0    1.0        1.0  \n",
       "2          NaN    2.0    1.0        1.0  \n",
       "3          NaN    2.0    1.0        1.0  \n",
       "4          NaN    1.0    2.0        1.0  \n",
       "...        ...    ...    ...        ...  \n",
       "67851      NaN    1.0    2.0        1.0  \n",
       "67852      NaN    2.0    1.0        1.0  \n",
       "67853      NaN    2.0    1.0        1.0  \n",
       "67854      NaN    1.0    2.0        1.0  \n",
       "67855      NaN    1.0    2.0        1.0  \n",
       "\n",
       "[67856 rows x 55 columns]"
      ]
     },
     "execution_count": 10,
     "metadata": {},
     "output_type": "execute_result"
    }
   ],
   "source": [
    "#revisar modulos cargados \n",
    "df_cgsse"
   ]
  },
  {
   "cell_type": "code",
   "execution_count": 12,
   "id": "170e9d4e",
   "metadata": {},
   "outputs": [
    {
     "data": {
      "text/plain": [
       "52045001"
      ]
     },
     "execution_count": 12,
     "metadata": {},
     "output_type": "execute_result"
    }
   ],
   "source": [
    "int(df_cgsse['FEX_C18'].sum())"
   ]
  },
  {
   "cell_type": "code",
   "execution_count": 16,
   "id": "a0b01b3e",
   "metadata": {},
   "outputs": [
    {
     "data": {
      "text/plain": [
       "23752952"
      ]
     },
     "execution_count": 16,
     "metadata": {},
     "output_type": "execute_result"
    }
   ],
   "source": [
    "int(df_ocupados['FEX_C18'].sum())"
   ]
  },
  {
   "cell_type": "code",
   "execution_count": 14,
   "id": "a2b657d5",
   "metadata": {},
   "outputs": [
    {
     "data": {
      "text/plain": [
       "16900463"
      ]
     },
     "execution_count": 14,
     "metadata": {},
     "output_type": "execute_result"
    }
   ],
   "source": [
    "int(df_desocupados['FEX_C18'].sum())"
   ]
  },
  {
   "cell_type": "code",
   "execution_count": 15,
   "id": "7675f8ec",
   "metadata": {},
   "outputs": [
    {
     "data": {
      "text/plain": [
       "40653416"
      ]
     },
     "execution_count": 15,
     "metadata": {},
     "output_type": "execute_result"
    }
   ],
   "source": [
    "int(df_ft['FEX_C18'].sum())"
   ]
  },
  {
   "cell_type": "code",
   "execution_count": 20,
   "id": "9c2cbd22",
   "metadata": {},
   "outputs": [
    {
     "data": {
      "text/plain": [
       "Index(['PERIODO', 'MES', 'PER', 'DIRECTORIO', 'SECUENCIA_P', 'ORDEN', 'HOGAR',\n",
       "       'REGIS', 'AREA', 'CLASE', 'FEX_C18', 'DPTO', 'PT', 'P6016', 'P3271',\n",
       "       'P6040', 'P6030S1', 'P6030S3', 'P6050', 'P6083', 'P6083S1', 'P6081',\n",
       "       'P6081S1', 'P2057', 'P2059', 'P2061', 'P6080', 'P6080S1', 'P6080S1A1',\n",
       "       'P6070', 'P6071', 'P6071S1', 'P6090', 'P6100', 'P6110', 'P6120',\n",
       "       'P1906S1', 'P1906S2', 'P1906S3', 'P1906S4', 'P1906S5', 'P1906S6',\n",
       "       'P1906S7', 'P1906S8', 'P6160', 'P6170', 'P3041', 'P3042', 'P3042S1',\n",
       "       'P3042S2', 'P3043', 'P3043S1', 'P3038', 'P3039', 'POB_MAY18'],\n",
       "      dtype='object')"
      ]
     },
     "execution_count": 20,
     "metadata": {},
     "output_type": "execute_result"
    }
   ],
   "source": [
    "df_cgsse.columns"
   ]
  },
  {
   "cell_type": "code",
   "execution_count": null,
   "id": "ac6b1bf9",
   "metadata": {},
   "outputs": [],
   "source": [
    "df_joined = pd.merge(\n",
    "    df_ocupados,\n",
    "    df_cgsse,\n",
    "    how='inner',\n",
    "    left_on=['DIRECTORIO', 'SECUENCIA_P', 'ORDEN'],\n",
    "    right_on=['DIRECTORIO', 'SECUENCIA_P', 'ORDEN'],\n",
    "    suffixes=('_ocupados', '_cgsse')\n",
    ")"
   ]
  },
  {
   "cell_type": "code",
   "execution_count": 26,
   "id": "5de5fccf",
   "metadata": {},
   "outputs": [],
   "source": [
    "df_d_genero = pd.merge(df_ocupados, df_cgsse[['DIRECTORIO','SECUENCIA_P', 'ORDEN', 'P3271']], on=['DIRECTORIO','SECUENCIA_P', 'ORDEN'], how ='left')\n"
   ]
  },
  {
   "cell_type": "code",
   "execution_count": 27,
   "id": "69718775",
   "metadata": {},
   "outputs": [
    {
     "data": {
      "text/plain": [
       "Index(['PERIODO', 'MES', 'PER', 'DIRECTORIO', 'SECUENCIA_P', 'ORDEN', 'HOGAR',\n",
       "       'REGIS', 'AREA', 'CLASE',\n",
       "       ...\n",
       "       'P1881S1', 'P1882', 'P7240', 'P7240S1', 'OCI', 'INGLABO', 'RAMA2D_R4',\n",
       "       'RAMA4D_R4', 'OFICIO_C8', 'P3271'],\n",
       "      dtype='object', length=203)"
      ]
     },
     "execution_count": 27,
     "metadata": {},
     "output_type": "execute_result"
    }
   ],
   "source": [
    "df_d_genero.columns"
   ]
  },
  {
   "cell_type": "code",
   "execution_count": 36,
   "id": "e4ba7037",
   "metadata": {},
   "outputs": [
    {
     "name": "stdout",
     "output_type": "stream",
     "text": [
      "Hombres en desempleo: 13860862\n",
      "Mujeres en desempleo: 9892089\n"
     ]
    }
   ],
   "source": [
    "#calculando de hombres en desempleo \n",
    "\n",
    "dh = df_d_genero[df_d_genero['P3271'] == 1]['FEX_C18'].sum()\n",
    "\n",
    "#calculando de mujeres en desempleo\n",
    "dm = df_d_genero[df_d_genero['P3271'] == 2]['FEX_C18'].sum()\n",
    "\n",
    "print(f'Hombres en desempleo: {int (dh)}')\n",
    "print(f'Mujeres en desempleo: {int (dm)}')"
   ]
  }
 ],
 "metadata": {
  "kernelspec": {
   "display_name": "Python 3",
   "language": "python",
   "name": "python3"
  },
  "language_info": {
   "codemirror_mode": {
    "name": "ipython",
    "version": 3
   },
   "file_extension": ".py",
   "mimetype": "text/x-python",
   "name": "python",
   "nbconvert_exporter": "python",
   "pygments_lexer": "ipython3",
   "version": "3.12.1"
  }
 },
 "nbformat": 4,
 "nbformat_minor": 5
}
